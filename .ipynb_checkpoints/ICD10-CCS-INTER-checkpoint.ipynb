{
 "cells": [
  {
   "cell_type": "code",
   "execution_count": null,
   "metadata": {},
   "outputs": [],
   "source": [
    "import pandas as pd\n",
    "ICD10_CCSdef=pd.read_csv(\"C:/Users/bunchkdl/Documents/GitHub/initial-testing/ICD10_CCS_testfile.csv\")\n",
    "print(ICD10_CCSdef)"
   ]
  },
  {
   "cell_type": "code",
   "execution_count": null,
   "metadata": {},
   "outputs": [],
   "source": [
    "import pandas as pd\n",
    "CCS_code_def=pd.read_csv(\"C:/Users/bunchkdl/Documents/GitHub/initial-testing/CCS-code-definition-list.csv\")\n",
    "print(CCS_code_def)"
   ]
  },
  {
   "cell_type": "code",
   "execution_count": null,
   "metadata": {},
   "outputs": [],
   "source": [
    "for index, row in ICD10_CCSdef.iterrow\n",
    "    if ICD10_CCSdef.ICD10Type "
   ]
  }
 ],
 "metadata": {
  "kernelspec": {
   "display_name": "Python 3",
   "language": "python",
   "name": "python3"
  },
  "language_info": {
   "codemirror_mode": {
    "name": "ipython",
    "version": 3
   },
   "file_extension": ".py",
   "mimetype": "text/x-python",
   "name": "python",
   "nbconvert_exporter": "python",
   "pygments_lexer": "ipython3",
   "version": "3.6.3"
  }
 },
 "nbformat": 4,
 "nbformat_minor": 2
}
